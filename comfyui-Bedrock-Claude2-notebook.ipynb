{
 "cells": [
  {
   "cell_type": "markdown",
   "id": "dcb0626c-265e-4d7d-8386-c8457c1b177f",
   "metadata": {},
   "source": [
    "# Global Paramter"
   ]
  },
  {
   "cell_type": "code",
   "execution_count": 2,
   "id": "a29bbef8-2dba-4a84-95c6-1f941ba7a69c",
   "metadata": {
    "tags": []
   },
   "outputs": [],
   "source": [
    "WORKING_DIR='/home/ec2-user/SageMaker'\n",
    "SageMaker_ComfyUI = WORKING_DIR + '/SageMaker_ComfyUI'"
   ]
  },
  {
   "cell_type": "code",
   "execution_count": 3,
   "id": "2cd1a7e4-2c4b-4d2c-b445-72516c69b54a",
   "metadata": {
    "tags": []
   },
   "outputs": [
    {
     "name": "stdout",
     "output_type": "stream",
     "text": [
      "/home/ec2-user/SageMaker\n"
     ]
    }
   ],
   "source": [
    "%cd $WORKING_DIR"
   ]
  },
  {
   "cell_type": "markdown",
   "id": "fe7c9674-2e04-41ad-af45-5d948e84bbb2",
   "metadata": {},
   "source": [
    "## Test the comfyui API"
   ]
  },
  {
   "cell_type": "code",
   "execution_count": 4,
   "id": "68fde1b9-c434-47d1-b736-eaec058bc24b",
   "metadata": {
    "tags": []
   },
   "outputs": [
    {
     "name": "stdout",
     "output_type": "stream",
     "text": [
      "4410130\n",
      "/home/ec2-user/SageMaker/workflows/workflow_api_txt2gif.json\n",
      "8d9ba6b7-7ee7-48a5-bd7a-7992c3c533a1\n",
      "/home/ec2-user/SageMaker/outputs/1_4410130.gif\n",
      "/home/ec2-user/SageMaker/outputs/1_4410130.gif DONE!!!\n"
     ]
    }
   ],
   "source": [
    "from utils import comfyui_api\n",
    "        \n",
    "test_prompt = \"\"\"\n",
    "    (A_Rostov_Style:0.7), rough brush strokes:1.3, oil painting, soft lighting\n",
    "    protrait, John Wick, shoreline, ocean, skyline, windy, daylight,\n",
    "    soothing tones, calm colors, \n",
    "    hdr, (intricate details, hyperdetailed:1.15)\n",
    "        \"\"\"\n",
    "seed = 4410130 # random.randint(1000000, 9999999)\n",
    "\n",
    "comfyui_api.generate_clip(test_prompt, seed)\n"
   ]
  },
  {
   "cell_type": "markdown",
   "id": "748a3b9e-ddd4-4032-b900-cd8f47bf2b3d",
   "metadata": {},
   "source": [
    "# Bedrock with LangChain using a Prompt that includes Context\n",
    "\n",
    "please refer the detail : https://github.com/aws-samples/amazon-bedrock-workshop/blob/main/01_Generation/02_contextual_generation.ipynb\n"
   ]
  },
  {
   "cell_type": "code",
   "execution_count": 5,
   "id": "eab18538-ce9c-4ae5-b030-bcead1920eb7",
   "metadata": {
    "tags": []
   },
   "outputs": [
    {
     "name": "stdout",
     "output_type": "stream",
     "text": [
      "\u001b[31mERROR: pip's dependency resolver does not currently take into account all the packages that are installed. This behaviour is the source of the following dependency conflicts.\n",
      "sparkmagic 0.20.5 requires nest-asyncio==1.5.5, but you have nest-asyncio 1.5.6 which is incompatible.\n",
      "sparkmagic 0.20.5 requires pandas<2.0.0,>=0.17.1, but you have pandas 2.0.3 which is incompatible.\n",
      "sphinx 7.0.1 requires docutils<0.21,>=0.18.1, but you have docutils 0.16 which is incompatible.\u001b[0m\u001b[31m\n",
      "\u001b[0m"
     ]
    }
   ],
   "source": [
    "# dependencies\n",
    "!pip install --no-build-isolation --force-reinstall --quiet \\\n",
    "    \"boto3>=1.28.57\" \\\n",
    "    \"awscli>=1.29.57\" \\\n",
    "    \"botocore>=1.31.57\"\n",
    "\n",
    "# text\n",
    "!pip install --quiet\\\n",
    "    langchain==0.0.309 \\\n",
    "    \"transformers>=4.24,<5\" \\\n",
    "    sqlalchemy -U \\\n",
    "    \"faiss-cpu>=1.7,<2\" \\\n",
    "    \"pypdf>=3.8,<4\" \\\n",
    "    pinecone-client \\\n",
    "    apache-beam \\\n",
    "    datasets \\\n",
    "    tiktoken \\\n",
    "    \"ipywidgets>=7,<8\" \\\n",
    "    matplotlib \n",
    "\n",
    "# agents\n",
    "!pip install --quiet \\\n",
    "    duckduckgo-search  \\\n",
    "    yfinance  \\\n",
    "    pandas_datareader  \\\n",
    "    langchain_experimental \\\n",
    "    pysqlite3 \\\n",
    "    google-search-results\n",
    "\n",
    "# entity extraction\n",
    "!pip install --quiet beautifulsoup4\n",
    "\n",
    "# image\n",
    "!pip install --quiet \"pillow>=9.5,<10\""
   ]
  },
  {
   "cell_type": "code",
   "execution_count": 6,
   "id": "cf373fad-9346-4da5-a73e-f7c169593023",
   "metadata": {
    "tags": []
   },
   "outputs": [
    {
     "name": "stdout",
     "output_type": "stream",
     "text": [
      "Create new client\n",
      "  Using region: None\n",
      "boto3 Bedrock client successfully created!\n",
      "bedrock-runtime(https://bedrock-runtime.us-east-1.amazonaws.com)\n"
     ]
    }
   ],
   "source": [
    "\n",
    "import json\n",
    "import os\n",
    "import sys\n",
    "\n",
    "import boto3\n",
    "import botocore\n",
    "\n",
    "module_path = \"..\"\n",
    "sys.path.append(os.path.abspath(module_path))\n",
    "from utils import bedrock, print_ww\n",
    "\n",
    "boto3_bedrock = bedrock.get_bedrock_client()\n",
    "\n",
    "#boto3_bedrock.list_foundation_models()\n"
   ]
  },
  {
   "cell_type": "code",
   "execution_count": 7,
   "id": "7181a47e-cdb2-4c7c-8160-146de4d71cad",
   "metadata": {
    "tags": []
   },
   "outputs": [],
   "source": [
    "\n",
    "from langchain.llms.bedrock import Bedrock\n",
    "\n",
    "inference_modifier = {'max_tokens_to_sample':4096, \n",
    "                      \"temperature\":0.5,\n",
    "                      \"top_k\":250,\n",
    "                      \"top_p\":1,\n",
    "                      \"stop_sequences\": [\"\\n\\nHuman\"]\n",
    "                     }\n",
    "\n",
    "textgen_llm = Bedrock(model_id = \"anthropic.claude-v2\",\n",
    "                    client = boto3_bedrock, \n",
    "                    model_kwargs = inference_modifier \n",
    "                    )\n"
   ]
  },
  {
   "cell_type": "code",
   "execution_count": null,
   "id": "ea0840cb-3158-4a70-a1a1-287bed576587",
   "metadata": {
    "tags": []
   },
   "outputs": [
    {
     "name": "stdout",
     "output_type": "stream",
     "text": [
      "Our prompt has 357 tokens\n",
      "['- JOHN WICK lying in bed staring at ceiling', '- Clock reads 3AM ', '- JOHN WICK gets up frustrated', '- JOHN WICK makes coffee', '- JOHN WICK drinks coffee looking out window ', '- City streets empty and quiet', '- JOHN WICK does pushups trying to tire himself', '- JOHN WICK takes shower ', '- JOHN WICK gets back in bed', '- JOHN WICK tosses and turns ', '- JOHN WICK takes sleeping pills', \"- Pills don't work\", '- JOHN WICK makes warm milk ', '- JOHN WICK drinks milk while watching TV', '- JOHN WICK dozes off on couch', '- JOHN WICK startles awake ', '- JOHN WICK punches pillow in frustration', '- Sun starts to rise ', '- JOHN WICK gives up and makes breakfast', '- JOHN WICK drinks more coffee looking tired', '- JOHN WICK starts his day exhausted']\n",
      "=======================\n",
      "- JOHN WICK lying in bed staring at ceiling\n",
      "Our prompt has 1291 tokens\n",
      "- John Wick resting in a dim bedroom, staring pensively at the ceiling, dramatic lighting, high contrast, black and white tones, cinematic perspective --ar 16:9 --q 2 \n",
      "706098217\n",
      "/home/ec2-user/SageMaker/workflows/workflow_api_txt2gif.json\n",
      "94cd51ef-2b43-4966-8d9b-c584a76ed54d\n",
      "/home/ec2-user/SageMaker/outputs/1_706098217.gif\n",
      "/home/ec2-user/SageMaker/outputs/1_706098217.gif DONE!!!\n",
      "- Clock reads 3AM \n",
      "Our prompt has 1286 tokens\n",
      "- Extreme closeup of an analog clock face, hands pointing to 3 o'clock, dim lighting, cinematic mood, highly detailed, depth of field, --ar 1:1\n",
      "149437121\n",
      "/home/ec2-user/SageMaker/workflows/workflow_api_txt2gif.json\n",
      "999b3dc4-0023-4c76-b8d8-f317f18ae7e4\n",
      "/home/ec2-user/SageMaker/outputs/2_149437121.gif\n",
      "/home/ec2-user/SageMaker/outputs/2_149437121.gif DONE!!!\n",
      "- JOHN WICK gets up frustrated\n",
      "Our prompt has 1288 tokens\n",
      "- John Wick, solemn expression, rising from bed at night, single light source, high contrast lighting, desaturated tones, gritty neo-noir aesthetic, 35mm depth of field \n",
      "684719516\n",
      "/home/ec2-user/SageMaker/workflows/workflow_api_txt2gif.json\n",
      "a448182a-a3c3-4b29-baec-a6430cdc35f0\n",
      "/home/ec2-user/SageMaker/outputs/3_684719516.gif\n",
      "/home/ec2-user/SageMaker/outputs/3_684719516.gif DONE!!!\n",
      "- JOHN WICK makes coffee\n",
      "Our prompt has 1287 tokens\n",
      "- Keanu Reeves as John Wick, intense focus, making pour-over coffee, dramatic lighting, highly detailed, cinematic perspective --ar 16:9\n",
      "951943872\n",
      "/home/ec2-user/SageMaker/workflows/workflow_api_txt2gif.json\n",
      "ea6de329-3394-407f-9ffa-8ce193c8dd13\n",
      "/home/ec2-user/SageMaker/outputs/4_951943872.gif\n",
      "/home/ec2-user/SageMaker/outputs/4_951943872.gif DONE!!!\n",
      "- JOHN WICK drinks coffee looking out window \n",
      "Our prompt has 1290 tokens\n",
      "- Keanu Reeves as John Wick, wearing a black suit, drinking coffee from a white mug, looking contemplatively out a rain-streaked high rise apartment window overlooking a neon-lit cityscape, dramatic lighting, cinematic perspective, highly detailed, digital art. --ar 16:9 --q 2\n",
      "856503033\n",
      "/home/ec2-user/SageMaker/workflows/workflow_api_txt2gif.json\n",
      "6a583cce-6eb6-4705-8171-16d11488b5ce\n",
      "/home/ec2-user/SageMaker/outputs/5_856503033.gif\n",
      "/home/ec2-user/SageMaker/outputs/5_856503033.gif DONE!!!\n",
      "- City streets empty and quiet\n",
      "Our prompt has 1287 tokens\n",
      "- City streets devoid of people, eerily quiet ambiance, empty sidewalks, abandoned cars, overcast lighting, cinematic perspective --ar 2.35:1 \n",
      "358208808\n",
      "/home/ec2-user/SageMaker/workflows/workflow_api_txt2gif.json\n",
      "53fb32cb-f86f-4b3e-ae9e-a77a36c9d9cc\n",
      "/home/ec2-user/SageMaker/outputs/6_358208808.gif\n",
      "/home/ec2-user/SageMaker/outputs/6_358208808.gif DONE!!!\n",
      "- JOHN WICK does pushups trying to tire himself\n",
      "Our prompt has 1292 tokens\n",
      "- John Wick, wearing a white tank top, doing pushups in a dark room with a single light overhead. Dramatic lighting, high contrast, black and white, reminiscent of an action movie poster. --ar 16:9 --q 2 \n",
      "336790510\n",
      "/home/ec2-user/SageMaker/workflows/workflow_api_txt2gif.json\n",
      "eabee4b8-a0aa-41c3-95b1-ec9c61787477\n",
      "/home/ec2-user/SageMaker/outputs/7_336790510.gif\n",
      "/home/ec2-user/SageMaker/outputs/7_336790510.gif DONE!!!\n",
      "- JOHN WICK takes shower \n",
      "Our prompt has 1287 tokens\n",
      "- Keanu Reeves as John Wick, standing pensively under a rainfall showerhead, water cascading down his muscular back, steam rising, moody lighting, highly detailed, cinematic color grading, depth of field focus on water droplets --ar 16:9 --q 2 \n",
      "557012612\n",
      "/home/ec2-user/SageMaker/workflows/workflow_api_txt2gif.json\n",
      "913106a3-66d6-4410-87a1-739674460089\n",
      "/home/ec2-user/SageMaker/outputs/8_557012612.gif\n",
      "/home/ec2-user/SageMaker/outputs/8_557012612.gif DONE!!!\n",
      "- JOHN WICK gets back in bed\n",
      "Our prompt has 1289 tokens\n",
      "- John Wick, weary and bandaged, crawls back into his messy bed after a long night, cinematic lighting, detailed textures, 4k --ar 16:9\n",
      "197997875\n",
      "/home/ec2-user/SageMaker/workflows/workflow_api_txt2gif.json\n",
      "525ba2ec-c187-48fe-a05b-4afd1a6fd5fe\n",
      "/home/ec2-user/SageMaker/outputs/9_197997875.gif\n",
      "/home/ec2-user/SageMaker/outputs/9_197997875.gif DONE!!!\n",
      "- JOHN WICK tosses and turns \n",
      "Our prompt has 1289 tokens\n",
      "- JOHN WICK tosses and turns restlessly in bed, face tense, gun on the nightstand, dark room, cinematic lighting, high contrast, film noir mood, ultra-realistic portrait, --ar 16:9 --q 2\n",
      "936405018\n",
      "/home/ec2-user/SageMaker/workflows/workflow_api_txt2gif.json\n",
      "c6f0daa4-1728-4fa2-b6f7-f89c4e84a822\n",
      "/home/ec2-user/SageMaker/outputs/10_936405018.gif\n",
      "/home/ec2-user/SageMaker/outputs/10_936405018.gif DONE!!!\n",
      "- JOHN WICK takes sleeping pills\n",
      "Our prompt has 1288 tokens\n",
      "- John Wick laying in bed, eyes closed, empty pill bottle on nightstand, moonlight streaming through window, cinematic lighting, highly detailed, Canon 5D Mark IV perspective --ar 16:9\n",
      "363882833\n",
      "/home/ec2-user/SageMaker/workflows/workflow_api_txt2gif.json\n",
      "9d1bc253-fa46-46e2-9803-a3865423c9e4\n",
      "/home/ec2-user/SageMaker/outputs/11_363882833.gif\n",
      "/home/ec2-user/SageMaker/outputs/11_363882833.gif DONE!!!\n",
      "- Pills don't work\n",
      "Our prompt has 1287 tokens\n",
      "- A hand holding colorful capsules and tablets spilling through fingers like sand, black background, dramatic lighting, high contrast, cinematic mood, detailed macro perspective \n",
      "444947272\n",
      "/home/ec2-user/SageMaker/workflows/workflow_api_txt2gif.json\n",
      "b1ad73e4-69f0-462f-a3af-1df4413c8997\n",
      "/home/ec2-user/SageMaker/outputs/12_444947272.gif\n",
      "/home/ec2-user/SageMaker/outputs/12_444947272.gif DONE!!!\n",
      "- JOHN WICK makes warm milk \n",
      "Our prompt has 1288 tokens\n",
      "- Keanu Reeves as John Wick, wearing a white tank top, pouring steaming milk into a mug, soft warm lighting, detailed, cinematic, Canon 5D Mark IV perspective --ar 16:9\n",
      "867618067\n",
      "/home/ec2-user/SageMaker/workflows/workflow_api_txt2gif.json\n",
      "438ebad5-b3a3-437a-b8f9-27c464b2732b\n",
      "/home/ec2-user/SageMaker/outputs/13_867618067.gif\n",
      "/home/ec2-user/SageMaker/outputs/13_867618067.gif DONE!!!\n",
      "- JOHN WICK drinks milk while watching TV\n",
      "Our prompt has 1290 tokens\n",
      "- John Wick, wearing a white tank top, sits on a black leather couch drinking a glass of milk as he watches an action movie on a large flatscreen TV. The scene is dimly lit with neon signs glowing in the background. Cyberpunk, cinematic lighting, highly detailed, Unreal Engine 5 render.\n",
      "708327338\n",
      "/home/ec2-user/SageMaker/workflows/workflow_api_txt2gif.json\n",
      "a81ecfa8-5c31-48f0-97f9-de188e30b9f1\n",
      "/home/ec2-user/SageMaker/outputs/14_708327338.gif\n",
      "/home/ec2-user/SageMaker/outputs/14_708327338.gif DONE!!!\n",
      "- JOHN WICK dozes off on couch\n",
      "Our prompt has 1290 tokens\n",
      "- Keanu Reeves as John Wick, asleep on a leather couch, gun on the coffee table, cinematic lighting, depth of field, 4k rendering, photorealistic --ar 16:9\n",
      "462768639\n",
      "/home/ec2-user/SageMaker/workflows/workflow_api_txt2gif.json\n",
      "48e641ae-6130-41be-b4e2-d57942e77596\n"
     ]
    }
   ],
   "source": [
    "\n",
    "from langchain.prompts import PromptTemplate\n",
    "from utils import comfyui_api\n",
    "import re, random\n",
    "\n",
    "def genContent(task, input_variables, number, idea):\n",
    "    LANGCHAIN_TASKS=SageMaker_ComfyUI + '/langchain_tasks'\n",
    "    with open('{}/{}'.format(LANGCHAIN_TASKS, task), 'r', encoding=\"utf-8\") as task:\n",
    "        lines = task.readlines()\n",
    "        # print(lines)\n",
    "        # Create a prompt template that has multiple input variables\n",
    "        multi_var_prompt = PromptTemplate(\n",
    "            input_variables=input_variables, \n",
    "            template=\"\"\"\n",
    "\n",
    "        Human: {}\n",
    "\n",
    "        Assistant: ok \"\"\".format(lines)\n",
    "        )\n",
    "        \n",
    "        prompt = multi_var_prompt.format(number=1, idea=idea)\n",
    "        \n",
    "        num_tokens = textgen_llm.get_num_tokens(prompt)\n",
    "        print(f\"Our prompt has {num_tokens} tokens\")\n",
    "        \n",
    "        response = textgen_llm(prompt)\n",
    "        content = response[response.index('\\n')+1:]\n",
    "            \n",
    "        # print(content)\n",
    "        return content\n",
    "\n",
    "def content2Prompt_1(task, content):\n",
    "    indices = [i.start() for i in re.finditer('\\n', content)]\n",
    "    ideas = []\n",
    "    for i in range(len(indices)):\n",
    "        idea = ''\n",
    "        if i < len(indices)-1:\n",
    "            idea = content[indices[i]+1:indices[i+1]]\n",
    "        else:\n",
    "            idea = content[indices[i]+1:]\n",
    "        # print(idea)\n",
    "        ideas.append(idea)\n",
    "    return ideas\n",
    "\n",
    "def content2Prompt_2(task, content):\n",
    "    indices = [i.start() for i in re.finditer('\\n', content)]\n",
    "    # print(indices)\n",
    "\n",
    "    prompt_txt = ''\n",
    "    if len(indices) < 2 :\n",
    "        prompt_txt = content[indices[0]+1:]\n",
    "    if len(indices) >= 2 :\n",
    "        prompt_txt = content[indices[0]+1:indices[1]] \n",
    "    print(prompt_txt)\n",
    "\n",
    "    return prompt_txt\n",
    "\n",
    "def claude2comfyui(task, number, idea, idx):\n",
    "    content = genContent(task, [\"number\", \"idea\"], number, idea)\n",
    "    if len(content) == 0:\n",
    "        return\n",
    "    prompt = content2Prompt_2(task, content)\n",
    "    # print(prompt)\n",
    "    seed = random.randint(100000000, 999999999)\n",
    "    comfyui_api.generate_clip(prompt, seed, idx)\n",
    "\n",
    "task = 'story_prompt_generator.txt'\n",
    "idea = 'John Wick cannot fall asleep'\n",
    "content = genContent(task, [\"number\", \"idea\"], 10, idea)\n",
    "ideas = content2Prompt_1(task, content)\n",
    "print(ideas)\n",
    "\n",
    "# ideas = [\n",
    "#     'John Wick retires, wife dies, dog killed, seek revenge', \n",
    "#     'John visits Continental Hotel, meets old friend, requests help',\n",
    "#     'John tracks down dog killer, fights henchmen, interrogates boss',\n",
    "#     'John invades nightclub, shootout with guards, boss escapes',\n",
    "#     'John chases boss, epic car chase, crashes, fights in subway'\n",
    "#         ]\n",
    "\n",
    "print(\"=======================\")\n",
    "task = 'midjourney_prompt_generator.txt'\n",
    "i = 0\n",
    "for idea in ideas:\n",
    "    i = i+1\n",
    "    print(idea)\n",
    "    claude2comfyui(task, 1, idea, i)\n",
    "\n",
    "# idea = 'John wick running in the steet'\n",
    "# claude2comfyui(task, idea)\n",
    "        "
   ]
  },
  {
   "cell_type": "code",
   "execution_count": null,
   "id": "f33d947b-5008-4566-a9d6-7779a5f3d963",
   "metadata": {},
   "outputs": [],
   "source": []
  }
 ],
 "metadata": {
  "kernelspec": {
   "display_name": "conda_pytorch_p310",
   "language": "python",
   "name": "conda_pytorch_p310"
  },
  "language_info": {
   "codemirror_mode": {
    "name": "ipython",
    "version": 3
   },
   "file_extension": ".py",
   "mimetype": "text/x-python",
   "name": "python",
   "nbconvert_exporter": "python",
   "pygments_lexer": "ipython3",
   "version": "3.10.12"
  }
 },
 "nbformat": 4,
 "nbformat_minor": 5
}
